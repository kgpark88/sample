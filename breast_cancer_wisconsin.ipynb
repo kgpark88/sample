{
 "cells": [
  {
   "cell_type": "code",
   "execution_count": 1,
   "metadata": {},
   "outputs": [],
   "source": [
    "from sklearn.datasets import load_breast_cancer\n",
    "\n",
    "cancer = load_breast_cancer()\n",
    "x = cancer.data # 인풋으로 사용할 데이터\n",
    "y = cancer.target # 아웃풋, target으로 사용할 데이터\n",
    "col_names = cancer.feature_names # 인풋으로 사용할 데이터의 컬럼별 이름들\n",
    "target_names = cancer.target_names # 아웃풋, target으로 사용할 데이터의 클래스 이름"
   ]
  },
  {
   "cell_type": "code",
   "execution_count": 2,
   "metadata": {},
   "outputs": [],
   "source": [
    "import pandas as pd"
   ]
  },
  {
   "cell_type": "code",
   "execution_count": 3,
   "metadata": {},
   "outputs": [],
   "source": [
    "import matplotlib.pyplot as plt"
   ]
  },
  {
   "cell_type": "code",
   "execution_count": 4,
   "metadata": {},
   "outputs": [],
   "source": [
    "bcc = pd.DataFrame(x, columns=col_names)"
   ]
  },
  {
   "cell_type": "code",
   "execution_count": 5,
   "metadata": {},
   "outputs": [],
   "source": [
    "# 트레이닝셋 / 테스트셋으로 분할\n",
    "from sklearn.model_selection import train_test_split\n",
    "\n",
    "x_train, x_test, y_train, y_test = train_test_split(bcc, y, test_size=0.15, random_state=2021, stratify = y)"
   ]
  },
  {
   "cell_type": "code",
   "execution_count": 6,
   "metadata": {},
   "outputs": [],
   "source": [
    "# 트레이닝셋 / 벨리데이션셋으로 분할\n",
    "from sklearn.model_selection import train_test_split\n",
    "\n",
    "x_train, x_valid, y_train, y_valid = train_test_split(x_train, y_train, test_size=0.3, random_state=2021, stratify = y_train)"
   ]
  },
  {
   "cell_type": "code",
   "execution_count": 7,
   "metadata": {},
   "outputs": [],
   "source": [
    "# x_train, x_valid, x_test의 인덱스를 초기화 \n",
    "x_train.reset_index(inplace=True, drop=True)\n",
    "x_valid.reset_index(inplace=True, drop=True)\n",
    "x_test.reset_index(inplace=True, drop=True)"
   ]
  },
  {
   "cell_type": "code",
   "execution_count": null,
   "metadata": {},
   "outputs": [],
   "source": [
    "# 표준화(standardization) 스케일링\n",
    "from sklearn.preprocessing import StandardScaler\n",
    "\n",
    "scaler = StandardScaler()\n",
    "x_train_sc = scaler.fit_transform(x_train)\n",
    "x_valid_sc = scaler.transform(x_valid)\n",
    "x_test_sc = scaler.transform(x_test)"
   ]
  },
  {
   "cell_type": "code",
   "execution_count": null,
   "metadata": {},
   "outputs": [],
   "source": [
    "# KNN 모델들을 학습\n",
    "from sklearn.neighbors import KNeighborsClassifier\n",
    "\n",
    "knns = []\n",
    "for k in range(2, 16) :\n",
    "    knn = KNeighborsClassifier(n_neighbors=k, weights='uniform')\n",
    "    knn.fit(x_train_sc, y_train)\n",
    "    knns.append(knn)"
   ]
  },
  {
   "cell_type": "code",
   "execution_count": null,
   "metadata": {},
   "outputs": [],
   "source": [
    "# KNN 모델들의 성능\n",
    "accs = []\n",
    "for k in range(2, 16) :\n",
    "    idx = k - 2\n",
    "    knn = knns[idx]\n",
    "    acc = knn.score(x_valid_sc, y_valid)\n",
    "    accs.append(acc)"
   ]
  },
  {
   "cell_type": "code",
   "execution_count": null,
   "metadata": {},
   "outputs": [],
   "source": [
    "# # KNN모델들의 k(이웃수)에 따른 accuracy를 시각화 \n",
    "# plt.figure(figsize=(10, 6))\n",
    "# plt.plot(range(2,16), accs)\n",
    "# plt.grid()\n",
    "# plt.show()\n",
    "# best_knn = knns[4]\n",
    "# print('k = 5 선택')"
   ]
  },
  {
   "cell_type": "code",
   "execution_count": null,
   "metadata": {},
   "outputs": [],
   "source": [
    "# 여기에 답안코드를 작성하세요\n",
    "best_knn = knns[4]\n",
    "print(f\"테스트셋 위에서의 accuracy : {best_knn.score(x_test_sc, y_test)*100:.2f}%\")"
   ]
  },
  {
   "cell_type": "code",
   "execution_count": null,
   "metadata": {},
   "outputs": [],
   "source": [
    "# classificaiton report\n",
    "y_pred = best_knn.predict(x_test_sc)\n",
    "from sklearn.metrics import classification_report\n",
    "\n",
    "print(classification_report(y_test, y_pred, target_names=target_names))\n",
    "\n",
    "print(\"malignant의 precision이 100% 이기 때문에 암환자라고 예측된 사람은 전부 암환자 일 것이다.\")"
   ]
  },
  {
   "cell_type": "code",
   "execution_count": null,
   "metadata": {},
   "outputs": [],
   "source": [
    "# # scaling 되지 않은 원본데이터로 학습\n",
    "# from sklearn.neighbors import KNeighborsClassifier\n",
    "\n",
    "# knns2 = []\n",
    "# for k in range(2, 16) :\n",
    "#     knn = KNeighborsClassifier(n_neighbors=k, weights='uniform')\n",
    "#     knn.fit(x_train, y_train)\n",
    "#     knns2.append(knn)\n",
    "\n",
    "#     accs2 = []\n",
    "# for k in range(2, 16) :\n",
    "#     idx = k - 2\n",
    "#     knn = knns2[idx]\n",
    "#     acc = knn.score(x_valid, y_valid)\n",
    "#     accs2.append(acc)\n",
    "    \n",
    "# plt.figure(figsize=(10, 6))\n",
    "# plt.plot(range(2,16), accs2)\n",
    "# plt.grid()\n",
    "# plt.show()\n",
    "\n",
    "# best_knn2 = knns2[4]"
   ]
  },
  {
   "cell_type": "code",
   "execution_count": null,
   "metadata": {},
   "outputs": [],
   "source": [
    "# 여기에 답안코드를 작성하세요\n",
    "\n",
    "print(f\"Q11 accuracy : {best_knn.score(x_test_sc, y_test)*100:.2f}%\")\n",
    "print(f\"Q15 accuracy : {best_knn2.score(x_test, y_test)*100:.2f}%\")"
   ]
  },
  {
   "cell_type": "code",
   "execution_count": null,
   "metadata": {},
   "outputs": [],
   "source": []
  },
  {
   "cell_type": "code",
   "execution_count": null,
   "metadata": {},
   "outputs": [],
   "source": [
    "import tensorflow as tf\n",
    "from tensorflow import keras\n",
    "from tensorflow.keras.layers import Input, Dense, Dropout, BatchNormalization\n",
    "from tensorflow.keras.models import Sequential, Model\n",
    "from tensorflow.keras.callbacks import EarlyStopping"
   ]
  },
  {
   "cell_type": "code",
   "execution_count": null,
   "metadata": {},
   "outputs": [],
   "source": [
    "# 딥러닝\n",
    "keras.backend.clear_session()\n",
    "\n",
    "model = Sequential()\n",
    "model.add(Dense(64, activation='swish', input_shape=x_train.shape[1:]))\n",
    "model.add(BatchNormalization())\n",
    "model.add(Dropout(0.4))\n",
    "model.add(Dense(32, activation='swish'))\n",
    "model.add(BatchNormalization())\n",
    "model.add(Dropout(0.4))\n",
    "model.add(Dense(32, activation='swish'))\n",
    "model.add(BatchNormalization())\n",
    "model.add(Dropout(0.4))\n",
    "model.add(Dense(1, activation='sigmoid'))\n",
    "\n",
    "model.compile(optimizer='adam',\n",
    "              loss='binary_crossentropy',\n",
    "              metrics=['accuracy']) \n",
    "\n",
    "es = EarlyStopping(monitor='val_loss', min_delta=0, patience=10, verbose=1, restore_best_weights=True)\n",
    "history = model.fit(x_train, y_train, epochs=2000, batch_size=32,\n",
    "                    verbose=0,validation_data=(x_valid, y_valid),callbacks=[es])"
   ]
  },
  {
   "cell_type": "code",
   "execution_count": null,
   "metadata": {},
   "outputs": [],
   "source": [
    "# #  시각화\n",
    "# import matplotlib.pyplot as plt\n",
    "\n",
    "# plt.plot(history.history['accuracy'])\n",
    "# plt.plot(history.history['val_accuracy'])\n",
    "# plt.title('Accuracy')\n",
    "# plt.xlabel('epochs')\n",
    "# plt.ylabel('accuracy')\n",
    "# plt.legend(['train_acc', 'val_acc'])\n",
    "# plt.show()"
   ]
  }
 ],
 "metadata": {
  "kernelspec": {
   "display_name": "Python 3 (ipykernel)",
   "language": "python",
   "name": "python3"
  },
  "language_info": {
   "codemirror_mode": {
    "name": "ipython",
    "version": 3
   },
   "file_extension": ".py",
   "mimetype": "text/x-python",
   "name": "python",
   "nbconvert_exporter": "python",
   "pygments_lexer": "ipython3",
   "version": "3.11.2"
  }
 },
 "nbformat": 4,
 "nbformat_minor": 4
}
