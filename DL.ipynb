{
 "cells": [
  {
   "cell_type": "markdown",
   "metadata": {},
   "source": [
    "###  데이터 로드\n",
    " - 데이터 출처 : https://www.kaggle.com/datasets/sjleshrac/airlines-customer-satisfaction"
   ]
  },
  {
   "cell_type": "code",
   "execution_count": 2,
   "metadata": {},
   "outputs": [],
   "source": [
    "# 필요한 라이브러리 불러오기\n",
    "import numpy as np\n",
    "import pandas as pd\n",
    "import warnings\n",
    "\n",
    "# 경고 메시지를 무시하도록 설정하기\n",
    "warnings.filterwarnings('ignore')"
   ]
  },
  {
   "cell_type": "code",
   "execution_count": 3,
   "metadata": {},
   "outputs": [],
   "source": [
    "df = pd.read_csv('Invistico_Airline.csv')"
   ]
  },
  {
   "cell_type": "markdown",
   "metadata": {},
   "source": [
    "### 데이터 전처리하기"
   ]
  },
  {
   "cell_type": "markdown",
   "metadata": {},
   "source": [
    "#### ■ 결측치 처리하기 "
   ]
  },
  {
   "cell_type": "code",
   "execution_count": 4,
   "metadata": {},
   "outputs": [],
   "source": [
    "# SimpleImputer 객체로 결측치 대체하기\n",
    "from sklearn.impute import SimpleImputer\n",
    "\n",
    "mean_imputer = SimpleImputer(strategy='mean')\n",
    "df[\"Arrival Delay in Minutes\"] = mean_imputer.fit_transform(df[[\"Arrival Delay in Minutes\"]])"
   ]
  },
  {
   "cell_type": "markdown",
   "metadata": {},
   "source": [
    "#### ■ 데이터 인코딩"
   ]
  },
  {
   "cell_type": "code",
   "execution_count": 5,
   "metadata": {},
   "outputs": [],
   "source": [
    "# object 컬럼 타입을 string 타입으로 변경하기\n",
    "cols = ['satisfaction', 'Gender', 'Customer Type', 'Type of Travel', 'Class']\n",
    "df[cols] = df[cols].astype(str)"
   ]
  },
  {
   "cell_type": "code",
   "execution_count": 6,
   "metadata": {},
   "outputs": [],
   "source": [
    "# 범주형 데이터를 수치값으로 변경하기\n",
    "df['satisfaction'].replace(['dissatisfied','satisfied'], [0,1], inplace=True)"
   ]
  },
  {
   "cell_type": "code",
   "execution_count": 7,
   "metadata": {},
   "outputs": [],
   "source": [
    "# 순서형 인코딩(Ordinal Encoding)하기\n",
    "categories = pd.Categorical(\n",
    "    df['Class'], \n",
    "    categories= ['Eco', 'Eco Plus', 'Business'], \n",
    "    ordered=True)\n",
    "labels, unique = pd.factorize(categories, sort=True)\n",
    "df['Class'] = labels"
   ]
  },
  {
   "cell_type": "code",
   "execution_count": 8,
   "metadata": {},
   "outputs": [],
   "source": [
    "# 원핫 인코딩(One Hot Encoding)하기\n",
    "cat_cols = ['Gender','Customer Type','Type of Travel']\n",
    "df = pd.get_dummies(df, columns=cat_cols)"
   ]
  },
  {
   "cell_type": "code",
   "execution_count": 9,
   "metadata": {},
   "outputs": [
    {
     "data": {
      "text/html": [
       "<div>\n",
       "<style scoped>\n",
       "    .dataframe tbody tr th:only-of-type {\n",
       "        vertical-align: middle;\n",
       "    }\n",
       "\n",
       "    .dataframe tbody tr th {\n",
       "        vertical-align: top;\n",
       "    }\n",
       "\n",
       "    .dataframe thead th {\n",
       "        text-align: right;\n",
       "    }\n",
       "</style>\n",
       "<table border=\"1\" class=\"dataframe\">\n",
       "  <thead>\n",
       "    <tr style=\"text-align: right;\">\n",
       "      <th></th>\n",
       "      <th>satisfaction</th>\n",
       "      <th>Age</th>\n",
       "      <th>Class</th>\n",
       "      <th>Flight Distance</th>\n",
       "      <th>Seat comfort</th>\n",
       "      <th>Departure/Arrival time convenient</th>\n",
       "      <th>Food and drink</th>\n",
       "      <th>Gate location</th>\n",
       "      <th>Inflight wifi service</th>\n",
       "      <th>Inflight entertainment</th>\n",
       "      <th>...</th>\n",
       "      <th>Cleanliness</th>\n",
       "      <th>Online boarding</th>\n",
       "      <th>Departure Delay in Minutes</th>\n",
       "      <th>Arrival Delay in Minutes</th>\n",
       "      <th>Gender_Female</th>\n",
       "      <th>Gender_Male</th>\n",
       "      <th>Customer Type_Loyal Customer</th>\n",
       "      <th>Customer Type_disloyal Customer</th>\n",
       "      <th>Type of Travel_Business travel</th>\n",
       "      <th>Type of Travel_Personal Travel</th>\n",
       "    </tr>\n",
       "  </thead>\n",
       "  <tbody>\n",
       "    <tr>\n",
       "      <th>0</th>\n",
       "      <td>1</td>\n",
       "      <td>65</td>\n",
       "      <td>0</td>\n",
       "      <td>265</td>\n",
       "      <td>0</td>\n",
       "      <td>0</td>\n",
       "      <td>0</td>\n",
       "      <td>2</td>\n",
       "      <td>2</td>\n",
       "      <td>4</td>\n",
       "      <td>...</td>\n",
       "      <td>3</td>\n",
       "      <td>2</td>\n",
       "      <td>0</td>\n",
       "      <td>0.0</td>\n",
       "      <td>1</td>\n",
       "      <td>0</td>\n",
       "      <td>1</td>\n",
       "      <td>0</td>\n",
       "      <td>0</td>\n",
       "      <td>1</td>\n",
       "    </tr>\n",
       "    <tr>\n",
       "      <th>1</th>\n",
       "      <td>1</td>\n",
       "      <td>47</td>\n",
       "      <td>2</td>\n",
       "      <td>2464</td>\n",
       "      <td>0</td>\n",
       "      <td>0</td>\n",
       "      <td>0</td>\n",
       "      <td>3</td>\n",
       "      <td>0</td>\n",
       "      <td>2</td>\n",
       "      <td>...</td>\n",
       "      <td>3</td>\n",
       "      <td>2</td>\n",
       "      <td>310</td>\n",
       "      <td>305.0</td>\n",
       "      <td>0</td>\n",
       "      <td>1</td>\n",
       "      <td>1</td>\n",
       "      <td>0</td>\n",
       "      <td>0</td>\n",
       "      <td>1</td>\n",
       "    </tr>\n",
       "    <tr>\n",
       "      <th>2</th>\n",
       "      <td>1</td>\n",
       "      <td>15</td>\n",
       "      <td>0</td>\n",
       "      <td>2138</td>\n",
       "      <td>0</td>\n",
       "      <td>0</td>\n",
       "      <td>0</td>\n",
       "      <td>3</td>\n",
       "      <td>2</td>\n",
       "      <td>0</td>\n",
       "      <td>...</td>\n",
       "      <td>4</td>\n",
       "      <td>2</td>\n",
       "      <td>0</td>\n",
       "      <td>0.0</td>\n",
       "      <td>1</td>\n",
       "      <td>0</td>\n",
       "      <td>1</td>\n",
       "      <td>0</td>\n",
       "      <td>0</td>\n",
       "      <td>1</td>\n",
       "    </tr>\n",
       "    <tr>\n",
       "      <th>3</th>\n",
       "      <td>1</td>\n",
       "      <td>60</td>\n",
       "      <td>0</td>\n",
       "      <td>623</td>\n",
       "      <td>0</td>\n",
       "      <td>0</td>\n",
       "      <td>0</td>\n",
       "      <td>3</td>\n",
       "      <td>3</td>\n",
       "      <td>4</td>\n",
       "      <td>...</td>\n",
       "      <td>1</td>\n",
       "      <td>3</td>\n",
       "      <td>0</td>\n",
       "      <td>0.0</td>\n",
       "      <td>1</td>\n",
       "      <td>0</td>\n",
       "      <td>1</td>\n",
       "      <td>0</td>\n",
       "      <td>0</td>\n",
       "      <td>1</td>\n",
       "    </tr>\n",
       "    <tr>\n",
       "      <th>4</th>\n",
       "      <td>1</td>\n",
       "      <td>70</td>\n",
       "      <td>0</td>\n",
       "      <td>354</td>\n",
       "      <td>0</td>\n",
       "      <td>0</td>\n",
       "      <td>0</td>\n",
       "      <td>3</td>\n",
       "      <td>4</td>\n",
       "      <td>3</td>\n",
       "      <td>...</td>\n",
       "      <td>2</td>\n",
       "      <td>5</td>\n",
       "      <td>0</td>\n",
       "      <td>0.0</td>\n",
       "      <td>1</td>\n",
       "      <td>0</td>\n",
       "      <td>1</td>\n",
       "      <td>0</td>\n",
       "      <td>0</td>\n",
       "      <td>1</td>\n",
       "    </tr>\n",
       "  </tbody>\n",
       "</table>\n",
       "<p>5 rows × 26 columns</p>\n",
       "</div>"
      ],
      "text/plain": [
       "   satisfaction  Age  Class  Flight Distance  Seat comfort  \\\n",
       "0             1   65      0              265             0   \n",
       "1             1   47      2             2464             0   \n",
       "2             1   15      0             2138             0   \n",
       "3             1   60      0              623             0   \n",
       "4             1   70      0              354             0   \n",
       "\n",
       "   Departure/Arrival time convenient  Food and drink  Gate location  \\\n",
       "0                                  0               0              2   \n",
       "1                                  0               0              3   \n",
       "2                                  0               0              3   \n",
       "3                                  0               0              3   \n",
       "4                                  0               0              3   \n",
       "\n",
       "   Inflight wifi service  Inflight entertainment  ...  Cleanliness  \\\n",
       "0                      2                       4  ...            3   \n",
       "1                      0                       2  ...            3   \n",
       "2                      2                       0  ...            4   \n",
       "3                      3                       4  ...            1   \n",
       "4                      4                       3  ...            2   \n",
       "\n",
       "   Online boarding  Departure Delay in Minutes  Arrival Delay in Minutes  \\\n",
       "0                2                           0                       0.0   \n",
       "1                2                         310                     305.0   \n",
       "2                2                           0                       0.0   \n",
       "3                3                           0                       0.0   \n",
       "4                5                           0                       0.0   \n",
       "\n",
       "   Gender_Female  Gender_Male  Customer Type_Loyal Customer  \\\n",
       "0              1            0                             1   \n",
       "1              0            1                             1   \n",
       "2              1            0                             1   \n",
       "3              1            0                             1   \n",
       "4              1            0                             1   \n",
       "\n",
       "   Customer Type_disloyal Customer  Type of Travel_Business travel  \\\n",
       "0                                0                               0   \n",
       "1                                0                               0   \n",
       "2                                0                               0   \n",
       "3                                0                               0   \n",
       "4                                0                               0   \n",
       "\n",
       "   Type of Travel_Personal Travel  \n",
       "0                               1  \n",
       "1                               1  \n",
       "2                               1  \n",
       "3                               1  \n",
       "4                               1  \n",
       "\n",
       "[5 rows x 26 columns]"
      ]
     },
     "execution_count": 9,
     "metadata": {},
     "output_type": "execute_result"
    }
   ],
   "source": [
    "# 데이터 전처리 결과 확인하기\n",
    "df.head()"
   ]
  },
  {
   "cell_type": "code",
   "execution_count": 10,
   "metadata": {},
   "outputs": [
    {
     "data": {
      "text/plain": [
       "satisfaction                           int64\n",
       "Age                                    int64\n",
       "Class                                  int64\n",
       "Flight Distance                        int64\n",
       "Seat comfort                           int64\n",
       "Departure/Arrival time convenient      int64\n",
       "Food and drink                         int64\n",
       "Gate location                          int64\n",
       "Inflight wifi service                  int64\n",
       "Inflight entertainment                 int64\n",
       "Online support                         int64\n",
       "Ease of Online booking                 int64\n",
       "On-board service                       int64\n",
       "Leg room service                       int64\n",
       "Baggage handling                       int64\n",
       "Checkin service                        int64\n",
       "Cleanliness                            int64\n",
       "Online boarding                        int64\n",
       "Departure Delay in Minutes             int64\n",
       "Arrival Delay in Minutes             float64\n",
       "Gender_Female                          uint8\n",
       "Gender_Male                            uint8\n",
       "Customer Type_Loyal Customer           uint8\n",
       "Customer Type_disloyal Customer        uint8\n",
       "Type of Travel_Business travel         uint8\n",
       "Type of Travel_Personal Travel         uint8\n",
       "dtype: object"
      ]
     },
     "execution_count": 10,
     "metadata": {},
     "output_type": "execute_result"
    }
   ],
   "source": [
    "# 데이터 타입 확인하기\n",
    "df.dtypes"
   ]
  },
  {
   "cell_type": "markdown",
   "metadata": {},
   "source": [
    "#### ■ 데이터셋 분리하기"
   ]
  },
  {
   "cell_type": "code",
   "execution_count": 11,
   "metadata": {},
   "outputs": [
    {
     "name": "stdout",
     "output_type": "stream",
     "text": [
      "훈련 데이터셋 크기 : X_train (103904, 25), y_train (103904,)\n",
      "검증 데이터셋 크기 : X_val (25976, 25), y_val (25976,)\n"
     ]
    }
   ],
   "source": [
    "from sklearn.model_selection import train_test_split\n",
    "\n",
    "# 데이터셋을 입력(X)과 레이블(y)로 분리하기\n",
    "X = df.drop(['satisfaction'], axis=1)\n",
    "y = df['satisfaction'].reset_index(drop=True)\n",
    "\n",
    "# 데이터셋을 훈련 데이터(train data)와 검증 데이터(validation data)로 분리하기\n",
    "X_train, X_val, y_train, y_val = train_test_split(X, y, \n",
    "    test_size=0.2, \n",
    "    random_state=42, \n",
    "    stratify=y)\n",
    "\n",
    "print(f'훈련 데이터셋 크기 : X_train {X_train.shape}, y_train {y_train.shape}')\n",
    "print(f'검증 데이터셋 크기 : X_val {X_val.shape}, y_val {y_val.shape}')"
   ]
  },
  {
   "cell_type": "markdown",
   "metadata": {},
   "source": [
    "#### ■ 데이터 스케일링하기"
   ]
  },
  {
   "cell_type": "code",
   "execution_count": 12,
   "metadata": {},
   "outputs": [
    {
     "name": "stdout",
     "output_type": "stream",
     "text": [
      "[[0.15384615 0.         0.34502246 ... 1.         1.         0.        ]\n",
      " [0.33333333 0.         0.44051587 ... 1.         1.         0.        ]\n",
      " [0.48717949 0.         0.26546877 ... 0.         1.         0.        ]\n",
      " ...\n",
      " [0.35897436 1.         0.31459209 ... 0.         1.         0.        ]\n",
      " [0.17948718 0.         0.25010868 ... 0.         0.         1.        ]\n",
      " [0.19230769 1.         0.62860455 ... 0.         1.         0.        ]]\n"
     ]
    }
   ],
   "source": [
    "from sklearn.preprocessing import MinMaxScaler\n",
    "\n",
    "# 데이터 정규화하기\n",
    "scaler = MinMaxScaler()\n",
    "scaler.fit(X_train)\n",
    "X_train = scaler.transform(X_train)\n",
    "X_val = scaler.transform(X_val)\n",
    "\n",
    "print(X_train)"
   ]
  },
  {
   "cell_type": "markdown",
   "metadata": {},
   "source": [
    "### 모델 구성"
   ]
  },
  {
   "cell_type": "code",
   "execution_count": 14,
   "metadata": {},
   "outputs": [],
   "source": [
    "import tensorflow as tf\n",
    "from tensorflow import keras\n",
    "from tensorflow.keras.layers import Input, Dense, Dropout\n",
    "from tensorflow.keras.layers import BatchNormalization \n",
    "from tensorflow.keras.models import Sequential, Model\n",
    "from tensorflow.keras.callbacks import EarlyStopping, ModelCheckpoint\n",
    "\n",
    "model = Sequential()\n",
    "model.add(Dense(32, activation='relu', input_shape=(25,)))\n",
    "model.add(Dense(64, activation='relu'))\n",
    "model.add(Dense(128, activation='relu'))\n",
    "model.add(Dense(64, activation='relu'))\n",
    "model.add(Dropout(0.3))\n",
    "model.add(Dense(32, activation='relu'))\n",
    "model.add(Dropout(0.2))\n",
    "model.add(Dense(1, activation='sigmoid'))"
   ]
  },
  {
   "cell_type": "markdown",
   "metadata": {},
   "source": [
    "### 모델 학습 환경 설정"
   ]
  },
  {
   "cell_type": "code",
   "execution_count": 15,
   "metadata": {},
   "outputs": [],
   "source": [
    "# 모델을 학습시킬 최적화 방법, loss 계산 방법, 평가 방법 설정하기\n",
    "model.compile(optimizer='adam', \n",
    "              loss='binary_crossentropy', \n",
    "              metrics=['accuracy']) "
   ]
  },
  {
   "cell_type": "markdown",
   "metadata": {},
   "source": [
    "### 모델 학습"
   ]
  },
  {
   "cell_type": "code",
   "execution_count": 16,
   "metadata": {},
   "outputs": [
    {
     "name": "stdout",
     "output_type": "stream",
     "text": [
      "Epoch 1/100\n",
      "812/812 [==============================] - 6s 4ms/step - loss: 0.2785 - accuracy: 0.8823 - val_loss: 0.1980 - val_accuracy: 0.9145\n",
      "Epoch 2/100\n",
      "812/812 [==============================] - 3s 4ms/step - loss: 0.1870 - accuracy: 0.9216 - val_loss: 0.1649 - val_accuracy: 0.9301\n",
      "Epoch 3/100\n",
      "812/812 [==============================] - 3s 4ms/step - loss: 0.1624 - accuracy: 0.9309 - val_loss: 0.1462 - val_accuracy: 0.9367\n",
      "Epoch 4/100\n",
      "812/812 [==============================] - 3s 4ms/step - loss: 0.1502 - accuracy: 0.9369 - val_loss: 0.1433 - val_accuracy: 0.9383\n",
      "Epoch 5/100\n",
      "812/812 [==============================] - 3s 4ms/step - loss: 0.1408 - accuracy: 0.9398 - val_loss: 0.1303 - val_accuracy: 0.9436\n",
      "Epoch 6/100\n",
      "812/812 [==============================] - 3s 4ms/step - loss: 0.1359 - accuracy: 0.9418 - val_loss: 0.1279 - val_accuracy: 0.9446\n",
      "Epoch 7/100\n",
      "812/812 [==============================] - 3s 4ms/step - loss: 0.1303 - accuracy: 0.9441 - val_loss: 0.1264 - val_accuracy: 0.9462\n",
      "Epoch 8/100\n",
      "812/812 [==============================] - 3s 4ms/step - loss: 0.1257 - accuracy: 0.9462 - val_loss: 0.1194 - val_accuracy: 0.9487\n",
      "Epoch 9/100\n",
      "812/812 [==============================] - 3s 4ms/step - loss: 0.1226 - accuracy: 0.9467 - val_loss: 0.1237 - val_accuracy: 0.9469\n",
      "Epoch 10/100\n",
      "812/812 [==============================] - 3s 4ms/step - loss: 0.1195 - accuracy: 0.9481 - val_loss: 0.1215 - val_accuracy: 0.9480\n",
      "Epoch 11/100\n",
      "812/812 [==============================] - 3s 4ms/step - loss: 0.1167 - accuracy: 0.9495 - val_loss: 0.1152 - val_accuracy: 0.9497\n",
      "Epoch 12/100\n",
      "812/812 [==============================] - 3s 4ms/step - loss: 0.1148 - accuracy: 0.9504 - val_loss: 0.1139 - val_accuracy: 0.9503\n",
      "Epoch 13/100\n",
      "812/812 [==============================] - 3s 4ms/step - loss: 0.1130 - accuracy: 0.9508 - val_loss: 0.1155 - val_accuracy: 0.9498\n",
      "Epoch 14/100\n",
      "812/812 [==============================] - 3s 4ms/step - loss: 0.1117 - accuracy: 0.9515 - val_loss: 0.1119 - val_accuracy: 0.9507\n",
      "Epoch 15/100\n",
      "812/812 [==============================] - 3s 4ms/step - loss: 0.1099 - accuracy: 0.9518 - val_loss: 0.1201 - val_accuracy: 0.9473\n",
      "Epoch 16/100\n",
      "812/812 [==============================] - 3s 4ms/step - loss: 0.1098 - accuracy: 0.9520 - val_loss: 0.1119 - val_accuracy: 0.9515\n",
      "Epoch 17/100\n",
      "812/812 [==============================] - 3s 4ms/step - loss: 0.1067 - accuracy: 0.9530 - val_loss: 0.1175 - val_accuracy: 0.9481\n",
      "Epoch 18/100\n",
      "812/812 [==============================] - 3s 4ms/step - loss: 0.1052 - accuracy: 0.9543 - val_loss: 0.1092 - val_accuracy: 0.9516\n",
      "Epoch 19/100\n",
      "812/812 [==============================] - 3s 4ms/step - loss: 0.1053 - accuracy: 0.9543 - val_loss: 0.1057 - val_accuracy: 0.9535\n",
      "Epoch 20/100\n",
      "812/812 [==============================] - 3s 4ms/step - loss: 0.1025 - accuracy: 0.9547 - val_loss: 0.1069 - val_accuracy: 0.9530\n",
      "Epoch 21/100\n",
      "812/812 [==============================] - 3s 4ms/step - loss: 0.1020 - accuracy: 0.9554 - val_loss: 0.1090 - val_accuracy: 0.9526\n",
      "Epoch 22/100\n",
      "812/812 [==============================] - 3s 4ms/step - loss: 0.1022 - accuracy: 0.9554 - val_loss: 0.1114 - val_accuracy: 0.9513\n",
      "Epoch 23/100\n",
      "812/812 [==============================] - 3s 4ms/step - loss: 0.1004 - accuracy: 0.9558 - val_loss: 0.1064 - val_accuracy: 0.9530\n",
      "Epoch 24/100\n",
      "812/812 [==============================] - 3s 4ms/step - loss: 0.0990 - accuracy: 0.9562 - val_loss: 0.1041 - val_accuracy: 0.9536\n",
      "Epoch 25/100\n",
      "812/812 [==============================] - 3s 4ms/step - loss: 0.0987 - accuracy: 0.9561 - val_loss: 0.1084 - val_accuracy: 0.9529\n",
      "Epoch 26/100\n",
      "812/812 [==============================] - 3s 4ms/step - loss: 0.0983 - accuracy: 0.9567 - val_loss: 0.1017 - val_accuracy: 0.9557\n",
      "Epoch 27/100\n",
      "812/812 [==============================] - 3s 4ms/step - loss: 0.0967 - accuracy: 0.9574 - val_loss: 0.1044 - val_accuracy: 0.9537\n",
      "Epoch 28/100\n",
      "812/812 [==============================] - 3s 4ms/step - loss: 0.0958 - accuracy: 0.9578 - val_loss: 0.1005 - val_accuracy: 0.9549\n",
      "Epoch 29/100\n",
      "812/812 [==============================] - 3s 4ms/step - loss: 0.0962 - accuracy: 0.9574 - val_loss: 0.0989 - val_accuracy: 0.9550\n",
      "Epoch 30/100\n",
      "812/812 [==============================] - 3s 4ms/step - loss: 0.0949 - accuracy: 0.9579 - val_loss: 0.1009 - val_accuracy: 0.9548\n",
      "Epoch 31/100\n",
      "812/812 [==============================] - 3s 4ms/step - loss: 0.0941 - accuracy: 0.9583 - val_loss: 0.1027 - val_accuracy: 0.9541\n",
      "Epoch 32/100\n",
      "812/812 [==============================] - 3s 4ms/step - loss: 0.0928 - accuracy: 0.9592 - val_loss: 0.1038 - val_accuracy: 0.9539\n",
      "Epoch 33/100\n",
      "812/812 [==============================] - 3s 4ms/step - loss: 0.0935 - accuracy: 0.9590 - val_loss: 0.1051 - val_accuracy: 0.9538\n",
      "Epoch 34/100\n",
      "812/812 [==============================] - 3s 4ms/step - loss: 0.0917 - accuracy: 0.9593 - val_loss: 0.1065 - val_accuracy: 0.9529\n",
      "Epoch 35/100\n",
      "812/812 [==============================] - 3s 4ms/step - loss: 0.0907 - accuracy: 0.9594 - val_loss: 0.1021 - val_accuracy: 0.9550\n",
      "Epoch 36/100\n",
      "812/812 [==============================] - 3s 4ms/step - loss: 0.0903 - accuracy: 0.9602 - val_loss: 0.1029 - val_accuracy: 0.9556\n",
      "Epoch 37/100\n",
      "812/812 [==============================] - 3s 4ms/step - loss: 0.0906 - accuracy: 0.9598 - val_loss: 0.1009 - val_accuracy: 0.9550\n",
      "Epoch 38/100\n",
      "812/812 [==============================] - 3s 4ms/step - loss: 0.0896 - accuracy: 0.9601 - val_loss: 0.1034 - val_accuracy: 0.9550\n",
      "Epoch 39/100\n",
      "811/812 [============================>.] - ETA: 0s - loss: 0.0891 - accuracy: 0.9603Restoring model weights from the end of the best epoch: 29.\n",
      "812/812 [==============================] - 3s 4ms/step - loss: 0.0891 - accuracy: 0.9603 - val_loss: 0.1014 - val_accuracy: 0.9556\n",
      "Epoch 39: early stopping\n"
     ]
    }
   ],
   "source": [
    "# 모델 학습하기\n",
    "es = EarlyStopping(monitor='val_loss', min_delta=0, patience=10, verbose=1, restore_best_weights=True)\n",
    "\n",
    "history = model.fit(X_train, y_train, epochs=100, batch_size=128,\n",
    "          verbose=1, validation_data=(X_val, y_val), callbacks=[es])"
   ]
  },
  {
   "cell_type": "markdown",
   "metadata": {},
   "source": [
    "### 모델 훈련 과정 시각화"
   ]
  },
  {
   "cell_type": "code",
   "execution_count": 17,
   "metadata": {},
   "outputs": [
    {
     "data": {
      "image/png": "[encoded data removed]",
      "text/plain": [
       "<Figure size 640x480 with 1 Axes>"
      ]
     },
     "metadata": {},
     "output_type": "display_data"
    },
    {
     "data": {
      "image/png": "[encoded data removed]",
      "text/plain": [
       "<Figure size 640x480 with 1 Axes>"
      ]
     },
     "metadata": {},
     "output_type": "display_data"
    }
   ],
   "source": [
    "import matplotlib.pyplot as plt\n",
    "\n",
    "# 훈련 과정 정확도(accuracy) 시각화하기\n",
    "plt.plot(history.history['accuracy'])\n",
    "plt.plot(history.history['val_accuracy'])\n",
    "plt.title('Model Accuracy')\n",
    "plt.xlabel('Epoch')\n",
    "plt.ylabel('Accuracy')\n",
    "plt.legend(['Train', 'Validation'], loc='lower right')\n",
    "plt.show()\n",
    "\n",
    "# 훈련 과정 손실(loss) 시각화하기\n",
    "plt.plot(history.history['loss'])\n",
    "plt.plot(history.history['val_loss'])\n",
    "plt.title('Model Loss')\n",
    "plt.xlabel('Epoch')\n",
    "plt.ylabel('Loss')\n",
    "plt.legend(['Train', 'Validation'], loc='upper right')\n",
    "plt.show()"
   ]
  },
  {
   "cell_type": "code",
   "execution_count": null,
   "metadata": {},
   "outputs": [],
   "source": []
  }
 ],
 "metadata": {
  "hide_input": false,
  "kernelspec": {
   "display_name": "Python 3 (ipykernel)",
   "language": "python",
   "name": "python3"
  },
  "language_info": {
   "codemirror_mode": {
    "name": "ipython",
    "version": 3
   },
   "file_extension": ".py",
   "mimetype": "text/x-python",
   "name": "python",
   "nbconvert_exporter": "python",
   "pygments_lexer": "ipython3",
   "version": "3.11.2"
  },
  "toc": {
   "base_numbering": 1,
   "nav_menu": {},
   "number_sections": true,
   "sideBar": true,
   "skip_h1_title": false,
   "title_cell": "Table of Contents",
   "title_sidebar": "Contents",
   "toc_cell": false,
   "toc_position": {},
   "toc_section_display": true,
   "toc_window_display": false
  },
  "varInspector": {
   "cols": {
    "lenName": 16,
    "lenType": 16,
    "lenVar": 40
   },
   "kernels_config": {
    "python": {
     "delete_cmd_postfix": "",
     "delete_cmd_prefix": "del ",
     "library": "var_list.py",
     "varRefreshCmd": "print(var_dic_list())"
    },
    "r": {
     "delete_cmd_postfix": ") ",
     "delete_cmd_prefix": "rm(",
     "library": "var_list.r",
     "varRefreshCmd": "cat(var_dic_list()) "
    }
   },
   "types_to_exclude": [
    "module",
    "function",
    "builtin_function_or_method",
    "instance",
    "_Feature"
   ],
   "window_display": false
  },
  "vscode": {
   "interpreter": {
    "hash": "ad2bdc8ecc057115af97d19610ffacc2b4e99fae6737bb82f5d7fb13d2f2c186"
   }
  }
 },
 "nbformat": 4,
 "nbformat_minor": 1
}
