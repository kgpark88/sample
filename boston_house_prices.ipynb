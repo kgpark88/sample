{
 "cells": [
  {
   "cell_type": "code",
   "execution_count": 1,
   "metadata": {},
   "outputs": [],
   "source": [
    "import pandas as pd\n",
    "\n",
    "bhp = pd.read_csv('https://raw.githubusercontent.com/kgpark88/ai-summary/main/BostonHousing.csv')"
   ]
  },
  {
   "cell_type": "code",
   "execution_count": 2,
   "metadata": {},
   "outputs": [],
   "source": [
    "import pandas as pd"
   ]
  },
  {
   "cell_type": "code",
   "execution_count": 3,
   "metadata": {},
   "outputs": [],
   "source": [
    "import numpy as np"
   ]
  },
  {
   "cell_type": "code",
   "execution_count": 5,
   "metadata": {},
   "outputs": [],
   "source": [
    "from sklearn.model_selection import train_test_split\n",
    "\n",
    "x_train, x_test, y_train, y_test = train_test_split(bhp.drop('MEDV', axis=1), bhp['MEDV'], test_size=0.15, random_state=2021, stratify = bhp['CHAS'])"
   ]
  },
  {
   "cell_type": "code",
   "execution_count": 6,
   "metadata": {},
   "outputs": [],
   "source": [
    "x_train, x_valid, y_train, y_valid = train_test_split(x_train, y_train, test_size=15/(70+15),\n",
    "                                                      random_state=2021, stratify = x_train['CHAS'])"
   ]
  },
  {
   "cell_type": "code",
   "execution_count": 7,
   "metadata": {},
   "outputs": [],
   "source": [
    "# MinMax스케일링\n",
    "from sklearn.preprocessing import MinMaxScaler\n",
    "\n",
    "mm_scaler = MinMaxScaler()\n",
    "x_train[['NOX', 'RM']] = mm_scaler.fit_transform(x_train[['NOX', 'RM']] )\n",
    "x_valid[['NOX', 'RM']] = mm_scaler.transform(x_valid[['NOX', 'RM']] )\n",
    "x_test[['NOX', 'RM']] = mm_scaler.transform(x_test[['NOX', 'RM']] )"
   ]
  },
  {
   "cell_type": "code",
   "execution_count": 8,
   "metadata": {},
   "outputs": [],
   "source": [
    "# 표준화스케일링\n",
    "from sklearn.preprocessing import StandardScaler\n",
    "\n",
    "st_scaler = StandardScaler()\n",
    "x_train[['RAD', 'B']] = st_scaler.fit_transform(x_train[['RAD', 'B']] )\n",
    "x_valid[['RAD', 'B']] = st_scaler.transform(x_valid[['RAD', 'B']] )\n",
    "x_test[['RAD', 'B']] = st_scaler.transform(x_test[['RAD', 'B']] )"
   ]
  },
  {
   "cell_type": "code",
   "execution_count": 12,
   "metadata": {},
   "outputs": [],
   "source": [
    "# 선형회귀 모델\n",
    "from sklearn.linear_model import LinearRegression\n",
    "lr = LinearRegression().fit(x_train, y_train)"
   ]
  },
  {
   "cell_type": "code",
   "execution_count": 13,
   "metadata": {},
   "outputs": [],
   "source": [
    "# ridge regression 모델\n",
    "from sklearn.linear_model import Ridge\n",
    "ridge = Ridge(5).fit(x_train, y_train)"
   ]
  },
  {
   "cell_type": "code",
   "execution_count": 14,
   "metadata": {},
   "outputs": [],
   "source": [
    "# lasso regression 모델\n",
    "from sklearn.linear_model import Lasso\n",
    "lasso = Lasso(1).fit(x_train, y_train)"
   ]
  },
  {
   "cell_type": "code",
   "execution_count": 15,
   "metadata": {},
   "outputs": [],
   "source": [
    "# elastic net regression 모델\n",
    "from sklearn.linear_model import ElasticNet\n",
    "elastic = ElasticNet(alpha=3.5, l1_ratio=(0.5/3.5)).fit(x_train, y_train)"
   ]
  },
  {
   "cell_type": "code",
   "execution_count": 16,
   "metadata": {},
   "outputs": [
    {
     "name": "stdout",
     "output_type": "stream",
     "text": [
      "RMSE of 선형회귀 : 4.96 * $1000\n",
      "RMSE of Ridge : 5.46 * $1000\n",
      "RMSE of Lasso : 6.46 * $1000\n",
      "RMSE of Elastic Net : 6.74 * $1000\n"
     ]
    }
   ],
   "source": [
    "# 모델의 성능\n",
    "from sklearn.metrics import mean_squared_error as MSE\n",
    "\n",
    "model_names = ['선형회귀', 'Ridge', 'Lasso', 'Elastic Net']\n",
    "models = [lr, ridge, lasso, elastic]\n",
    "\n",
    "for i in range(4) :\n",
    "    y_pred = models[i].predict(x_valid)\n",
    "    print(f\"RMSE of {model_names[i]} : {MSE(y_valid, y_pred)**.5:.2f} * $1000\")"
   ]
  },
  {
   "cell_type": "code",
   "execution_count": 17,
   "metadata": {},
   "outputs": [
    {
     "name": "stdout",
     "output_type": "stream",
     "text": [
      "RMSE of 선형회귀 : 3.29 * $1000\n",
      "RMSE of Ridge : 3.36 * $1000\n",
      "RMSE of Lasso : 3.74 * $1000\n",
      "RMSE of Elastic Net : 3.78 * $1000\n"
     ]
    }
   ],
   "source": [
    "from sklearn.metrics import mean_absolute_error as MAE\n",
    "\n",
    "model_names = ['선형회귀', 'Ridge', 'Lasso', 'Elastic Net']\n",
    "models = [lr, ridge, lasso, elastic]\n",
    "\n",
    "for i in range(4) :\n",
    "    y_pred = models[i].predict(x_test)\n",
    "    print(f\"RMSE of {model_names[i]} : {MAE(y_test, y_pred):.2f} * $1000\")"
   ]
  },
  {
   "cell_type": "code",
   "execution_count": 18,
   "metadata": {},
   "outputs": [
    {
     "name": "stdout",
     "output_type": "stream",
     "text": [
      "RMSE of 선형회귀 : 5.32 * $1000\n",
      "RMSE of Ridge : 5.86 * $1000\n",
      "RMSE of Lasso : 5.66 * $1000\n",
      "RMSE of Elastic Net : 5.62 * $1000\n"
     ]
    }
   ],
   "source": [
    "# 모델의 성능을 출력\n",
    "from sklearn.metrics import mean_absolute_error as MAE\n",
    "\n",
    "model_names = ['선형회귀', 'Ridge', 'Lasso', 'Elastic Net']\n",
    "models = [lr, ridge, lasso, elastic]\n",
    "\n",
    "cond_cha =  (x_test['CHAS'] == 1)\n",
    "x_test_cha = x_test[cond_cha]\n",
    "y_test_cha = y_test[cond_cha]\n",
    "\n",
    "for i in range(4) :\n",
    "    y_pred_cha = models[i].predict(x_test_cha)\n",
    "    print(f\"RMSE of {model_names[i]} : {MAE(y_test_cha, y_pred_cha):.2f} * $1000\")"
   ]
  },
  {
   "cell_type": "code",
   "execution_count": null,
   "metadata": {},
   "outputs": [],
   "source": []
  },
  {
   "cell_type": "code",
   "execution_count": 19,
   "metadata": {},
   "outputs": [],
   "source": [
    "import tensorflow as tf\n",
    "from tensorflow import keras\n",
    "from tensorflow.keras.layers import Input, Dense, BatchNormalization\n",
    "from tensorflow.keras.models import Sequential, Model\n",
    "from tensorflow.keras.callbacks import ModelCheckpoint"
   ]
  },
  {
   "cell_type": "code",
   "execution_count": 20,
   "metadata": {},
   "outputs": [],
   "source": [
    "keras.backend.clear_session()\n",
    "\n",
    "model = Sequential()\n",
    "model.add(Dense(32, activation='swish', input_shape=(13,)))\n",
    "model.add(BatchNormalization())\n",
    "model.add(Dense(32, activation='swish'))\n",
    "model.add(BatchNormalization())\n",
    "model.add(Dense(1))\n",
    "\n",
    "model.compile(optimizer='adam',\n",
    "              loss='mse'  ) \n",
    "\n",
    "mc = ModelCheckpoint('best_model.h5', monitor='val_loss', mode='min', save_best_only=True)\n",
    "history = model.fit(x_train, y_train, epochs=200, batch_size=32,\n",
    "                    verbose=0,validation_data=(x_valid, y_valid),callbacks=[mc])"
   ]
  },
  {
   "cell_type": "code",
   "execution_count": 22,
   "metadata": {},
   "outputs": [],
   "source": [
    "# import matplotlib.pyplot as plt\n",
    "\n",
    "# plt.plot(history.history['loss'])\n",
    "# plt.plot(history.history['val_loss'])\n",
    "# plt.title('Loss')\n",
    "# plt.xlabel('epochs')\n",
    "# plt.ylabel('MSE')\n",
    "# plt.legend(['loss', 'val_loss'])\n",
    "# plt.show()"
   ]
  },
  {
   "cell_type": "code",
   "execution_count": null,
   "metadata": {},
   "outputs": [],
   "source": []
  }
 ],
 "metadata": {
  "kernelspec": {
   "display_name": "Python 3 (ipykernel)",
   "language": "python",
   "name": "python3"
  },
  "language_info": {
   "codemirror_mode": {
    "name": "ipython",
    "version": 3
   },
   "file_extension": ".py",
   "mimetype": "text/x-python",
   "name": "python",
   "nbconvert_exporter": "python",
   "pygments_lexer": "ipython3",
   "version": "3.11.2"
  }
 },
 "nbformat": 4,
 "nbformat_minor": 4
}
